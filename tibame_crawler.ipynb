{
  "nbformat": 4,
  "nbformat_minor": 0,
  "metadata": {
    "colab": {
      "provenance": [],
      "authorship_tag": "ABX9TyMVVV7vzPAX132fZ6OBlpgn",
      "include_colab_link": true
    },
    "kernelspec": {
      "name": "python3",
      "display_name": "Python 3"
    },
    "language_info": {
      "name": "python"
    }
  },
  "cells": [
    {
      "cell_type": "markdown",
      "metadata": {
        "id": "view-in-github",
        "colab_type": "text"
      },
      "source": [
        "<a href=\"https://colab.research.google.com/github/Yneq/tibami/blob/main/tibame_crawler.ipynb\" target=\"_parent\"><img src=\"https://colab.research.google.com/assets/colab-badge.svg\" alt=\"Open In Colab\"/></a>"
      ]
    },
    {
      "cell_type": "markdown",
      "source": [
        "WIN: -headers \"Origin: https://ani.gamer.com.tw\" -i \"\" anime.mp4\n",
        "\n",
        "MAC: -headers 'Origin: https://ani.gamer.com.tw' -i '' anime.mp4\n",
        "\n",
        "ffmpeg(用拉的) 複製並且把-i後面的\"\"填入m3u8\n",
        "\n",
        "編碼: 我 -> 0101010\n",
        "解碼: 01110 -> 我\n",
        "\n",
        "現在只有一套: 萬國碼(Unicode): utf-8\n",
        "\n",
        "因為WIN預設編碼: ANSI 繁體(BIG-5)"
      ],
      "metadata": {
        "id": "LD2JgKSxeFvw"
      }
    },
    {
      "cell_type": "code",
      "source": [
        "f = open(\"a.txt\", \"w\", encoding=\"utf-8\")\n",
        "# 以前: write(f, \"abcde\")\n",
        "# 專屬(型態)功能: f.write(\"abcde\")\n",
        "# 特殊字元(換行/TAB\\backspace)\n",
        "# \\(跳脫字元)字母\n",
        "# \\n: 換行 \\t: TAB\n",
        "f.write(\"abcde\\n\")\n",
        "f.write(\"12345\\n\")\n",
        "# 以前: close(f)\n",
        "# 專屬: f.close()\n",
        "f.close()"
      ],
      "metadata": {
        "id": "sj9hzkwweJsZ"
      },
      "execution_count": null,
      "outputs": []
    },
    {
      "cell_type": "code",
      "source": [
        "\n",
        "f = open(\"a.txt\", \"r\", encoding=\"utf-8\")\n",
        "# 以前: content = read(f)\n",
        "# 現在: content = f.read()\n",
        "content = f.read()\n",
        "print(content)\n",
        "f.close()"
      ],
      "metadata": {
        "colab": {
          "base_uri": "https://localhost:8080/"
        },
        "id": "tMCitFPafstg",
        "outputId": "f902c0db-2c11-4d7a-c6d0-fc236ad5e0c8"
      },
      "execution_count": null,
      "outputs": [
        {
          "output_type": "stream",
          "name": "stdout",
          "text": [
            "abcde\n",
            "12345\n",
            "\n"
          ]
        }
      ]
    },
    {
      "cell_type": "markdown",
      "source": [
        "爬蟲\"動畫瘋\"的彈幕"
      ],
      "metadata": {
        "id": "FyKWoNL_hxbH"
      }
    },
    {
      "cell_type": "code",
      "source": [
        "import json\n",
        "import urllib.request as req\n",
        "\n",
        "url = \"https://api.gamer.com.tw/anime/v1/danmu.php?videoSn=36632&geo=TW%2CHK\"\n",
        "f = req.urlopen(url)\n",
        "content = f.read()\n",
        "# print(content)\n",
        "#content 是bytes形態，要轉換成list/dict形態\n",
        "content_convert = json.loads(content)\n",
        "\n",
        "f = open(\"danmu.tsv\", \"w\", encoding=\"utf-8\")\n",
        "f.write(\"ID\\tTEXT\\n\")\n",
        "\n",
        "data = content_convert[\"data\"]\n",
        "danmu_list = data[\"danmu\"]\n",
        "for danmu in danmu_list:\n",
        "    userid = danmu[\"userid\"]\n",
        "    text = danmu[\"text\"]\n",
        "    # print(userid, text)\n",
        "    line = '\"' + userid + '\"\\t\"' + text + '\"\\n'\n",
        "    f.write(line)\n",
        "f.close()"
      ],
      "metadata": {
        "id": "Ome7J3wXf_ZV"
      },
      "execution_count": 7,
      "outputs": []
    },
    {
      "cell_type": "code",
      "source": [],
      "metadata": {
        "id": "WiABFDXoh3Pt"
      },
      "execution_count": null,
      "outputs": []
    }
  ]
}