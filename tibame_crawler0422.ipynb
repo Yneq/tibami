{
  "nbformat": 4,
  "nbformat_minor": 0,
  "metadata": {
    "colab": {
      "provenance": [],
      "authorship_tag": "ABX9TyOwR6TtriA7AMqSm4ZLlYaJ",
      "include_colab_link": true
    },
    "kernelspec": {
      "name": "python3",
      "display_name": "Python 3"
    },
    "language_info": {
      "name": "python"
    }
  },
  "cells": [
    {
      "cell_type": "markdown",
      "metadata": {
        "id": "view-in-github",
        "colab_type": "text"
      },
      "source": [
        "<a href=\"https://colab.research.google.com/github/Yneq/tibami/blob/main/tibame_crawler0422.ipynb\" target=\"_parent\"><img src=\"https://colab.research.google.com/assets/colab-badge.svg\" alt=\"Open In Colab\"/></a>"
      ]
    },
    {
      "cell_type": "code",
      "execution_count": 9,
      "metadata": {
        "colab": {
          "base_uri": "https://localhost:8080/"
        },
        "id": "k_APoophH9PC",
        "outputId": "4900e6fb-fa23-45ce-cf5f-04babf403ab1"
      },
      "outputs": [
        {
          "output_type": "stream",
          "name": "stdout",
          "text": [
            "頁數: 1\n",
            "頁數: 2\n",
            "頁數: 3\n",
            "頁數: 4\n",
            "頁數: 5\n",
            "頁數: 6\n",
            "頁數: 7\n",
            "頁數: 8\n",
            "頁數: 9\n",
            "頁數: 10\n"
          ]
        }
      ],
      "source": [
        "import bs4 as bs\n",
        "import pandas as pd\n",
        "import urllib.request as req\n",
        "\n",
        "table=[]\n",
        "for i in range(10):\n",
        "    page = i + 1\n",
        "    print(\"頁數:\", page)\n",
        "    url = \"https://tabelog.com/tw/okinawa/rstLst/{}/?SrtT=rt\".format(page)\n",
        "    resp = req.urlopen(url)\n",
        "    content = resp.read()\n",
        "    # 上次我們在這裡是用json.loads把bytes型態換成dict/list型態\n",
        "    html = bs.BeautifulSoup(content)\n",
        "\n",
        "    # 區塊.find/find_all\n",
        "    # 萃取屬性 [屬姓名]  內容 .text\n",
        "    rs = html.find_all(\"div\", {\"class\":\"list-rst__body\"})\n",
        "    for r in rs:\n",
        "        en = r.find(\"a\", {\"class\":\"list-rst__rst-name-target\"})\n",
        "        area_genre = r.find(\"div\", {\"class\":\"list-rst__area-genre\"})\n",
        "        rating = r.find(\"span\", {\"class\":\"c-rating__val\"})\n",
        "        dinner, lunch = r.find_all(\"span\", {\"class\":\"c-rating-v3__val\"})\n",
        "        # process\n",
        "        en_href = en[\"href\"]\n",
        "        en_name = en.text\n",
        "        area_genre_text = area_genre.text.strip()\n",
        "        area_genre_text_split = area_genre_text.split(\" / \")\n",
        "        # 如果只有一個, 地點從缺\n",
        "        if len(area_genre_text_split) == 1:\n",
        "            area_text, genre_text = \"\", area_genre_text_split[0]\n",
        "        else:\n",
        "            area_text, genre_Text = area_genre_text_split[0], area_genre_text_split[1]\n",
        "\n",
        "        rating_text = rating.text\n",
        "        # print\n",
        "        # print(rating_text)\n",
        "        # print(en_name)\n",
        "        # print(en_href)\n",
        "        # print(area_text)\n",
        "        # print(genre_text)\n",
        "        # print(dinner.text)\n",
        "        # print(lunch.text)\n",
        "        # print(\"-\" * 30)\n",
        "        # 2. 準備好一筆資料(一列)\n",
        "        data = {\n",
        "                \"評價\":rating_text,\n",
        "                \"英文店名\":en_name,\n",
        "                \"超連結\":en_href,\n",
        "                \"地點\":area_text,\n",
        "                \"類別\":genre_text,\n",
        "                \"晚餐價格\":dinner.text,\n",
        "                \"午餐價格\":lunch.text,\n",
        "            }\n",
        "        table.append(data)\n",
        "# 3. 把list/dict轉成pd.DataFrame\n",
        "df = pd.json_normalize(table)\n",
        "df.to_csv(\"tablelog.csv\", encoding=\"utf-8\", index=False)"
      ]
    },
    {
      "cell_type": "code",
      "source": [
        "# strip/split/join/replace\n",
        "s = \"       \\n     \\t    法 料理         \\n\"\n",
        "print(s.strip())\n",
        "\n",
        "s = \"2002/02/03\"\n",
        "a, b, c = s.split(\"/\")\n",
        "print(a, b, c)\n",
        "\n",
        "print(\"-\".join([a, b, c]))\n",
        "\n",
        "\n",
        "print(\"123, 456, 789\".replace(\",\", \"!\", 1))\n",
        "\n",
        "s = \"abc,def\"\n",
        "s = s.replace(\",\", \"!\")\n",
        "print(s)"
      ],
      "metadata": {
        "colab": {
          "base_uri": "https://localhost:8080/"
        },
        "id": "k2hc733uiu9S",
        "outputId": "03593877-fa76-4c19-d526-b021b2a8ea27"
      },
      "execution_count": 5,
      "outputs": [
        {
          "output_type": "stream",
          "name": "stdout",
          "text": [
            "法 料理\n",
            "2002 02 03\n",
            "2002-02-03\n",
            "123! 456, 789\n",
            "abc!def\n"
          ]
        }
      ]
    },
    {
      "cell_type": "code",
      "source": [
        "\n",
        "scores = [20, 30, 40]\n",
        "b = scores.append(100)\n",
        "print(scores)\n",
        "print(b)\n",
        "\n",
        "# 1. 以前: 要=才會改\n",
        "#    現在(例外): list的功能都是直接改\n",
        "# 2. 以前: 某些功能沒有回傳值\n",
        "#    現在(更正): 任何功能都有回傳值, 只是有些功能回傳了 None 這個值\n",
        "# None: 特別的型態 無\n",
        "print(print(5))\n",
        "\n",
        "# list你常會犯的錯誤1\n",
        "# 雖然你跟沒印依樣, 但至少有進去\n",
        "print(scores.append(200))\n",
        "# 致命錯誤2\n",
        "# scores = scores.append(300)\n",
        "# print(scores[-1])\n",
        "\n",
        "\n",
        "# !!!!!!! list的專屬功能千萬別設定回去\n",
        "# !!!!!!! 如果你遇到的錯誤是 NoneType is xxx 那就代表你上面一訂做了 xx = None\n",
        "# 這時候你就要反應一下: 他是list類型的, 直接改, 回傳None\n",
        "\n",
        "scores.append(999)\n",
        "print(scores)"
      ],
      "metadata": {
        "colab": {
          "base_uri": "https://localhost:8080/"
        },
        "id": "2Ffk9i5XlYao",
        "outputId": "1a25688a-a77c-4a56-a092-799553efad19"
      },
      "execution_count": 7,
      "outputs": [
        {
          "output_type": "stream",
          "name": "stdout",
          "text": [
            "[20, 30, 40, 100]\n",
            "None\n",
            "5\n",
            "None\n",
            "None\n",
            "[20, 30, 40, 100, 200, 999]\n"
          ]
        }
      ]
    }
  ]
}