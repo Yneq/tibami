{
  "nbformat": 4,
  "nbformat_minor": 0,
  "metadata": {
    "colab": {
      "provenance": [],
      "authorship_tag": "ABX9TyO0TjgsaMa5OA2KmqBIYtCr",
      "include_colab_link": true
    },
    "kernelspec": {
      "name": "python3",
      "display_name": "Python 3"
    },
    "language_info": {
      "name": "python"
    }
  },
  "cells": [
    {
      "cell_type": "markdown",
      "metadata": {
        "id": "view-in-github",
        "colab_type": "text"
      },
      "source": [
        "<a href=\"https://colab.research.google.com/github/Yneq/tibami/blob/main/tibame0415.ipynb\" target=\"_parent\"><img src=\"https://colab.research.google.com/assets/colab-badge.svg\" alt=\"Open In Colab\"/></a>"
      ]
    },
    {
      "cell_type": "code",
      "execution_count": 4,
      "metadata": {
        "colab": {
          "base_uri": "https://localhost:8080/"
        },
        "id": "uqxWZDTka24c",
        "outputId": "8cc902bc-a199-4e5b-b7e2-1be6aa770611"
      },
      "outputs": [
        {
          "output_type": "stream",
          "name": "stdout",
          "text": [
            "請輸入 0 - 100 :\n",
            "120\n",
            "不合理\n",
            "請輸入 0 - 100 :\n",
            "80\n",
            "猜小了\n",
            "請輸入 80 - 100 :\n",
            "90\n",
            "猜大了\n",
            "請輸入 80 - 90 :\n",
            "100\n",
            "不合理\n",
            "請輸入 80 - 90 :\n",
            "95\n",
            "不合理\n",
            "請輸入 80 - 90 :\n",
            "85\n",
            "猜小了\n",
            "請輸入 85 - 90 :\n",
            "87\n",
            "猜對了!!!!!!!\n"
          ]
        }
      ],
      "source": [
        "import random\n",
        "\n",
        "low, high = 0, 100\n",
        "ans = random.randint(low+1, high-1)\n",
        "\n",
        "while True:\n",
        "    print(\"請輸入\", low, \"-\", high, \":\")\n",
        "    guess = int(input())\n",
        "    if guess < low or guess > high:\n",
        "        print(\"不合理\")\n",
        "        continue\n",
        "    if guess > ans:\n",
        "        print(\"猜大了\")\n",
        "        high = guess\n",
        "    elif guess < ans:\n",
        "        print(\"猜小了\")\n",
        "        low = guess\n",
        "    else:\n",
        "        print(\"猜對了!!!!!!!\")\n",
        "        break\n",
        ""
      ]
    }
  ]
}