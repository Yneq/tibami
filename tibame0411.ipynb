{
  "nbformat": 4,
  "nbformat_minor": 0,
  "metadata": {
    "colab": {
      "provenance": [],
      "authorship_tag": "ABX9TyOyiqTCJoBYEfxTGvIFNz8u",
      "include_colab_link": true
    },
    "kernelspec": {
      "name": "python3",
      "display_name": "Python 3"
    },
    "language_info": {
      "name": "python"
    }
  },
  "cells": [
    {
      "cell_type": "markdown",
      "metadata": {
        "id": "view-in-github",
        "colab_type": "text"
      },
      "source": [
        "<a href=\"https://colab.research.google.com/github/Yneq/tibami/blob/main/tibame0411.ipynb\" target=\"_parent\"><img src=\"https://colab.research.google.com/assets/colab-badge.svg\" alt=\"Open In Colab\"/></a>"
      ]
    },
    {
      "cell_type": "code",
      "execution_count": 2,
      "metadata": {
        "colab": {
          "base_uri": "https://localhost:8080/"
        },
        "id": "xvMJxOlgh-Aa",
        "outputId": "6947ca04-1d40-4b1b-deb5-1645023bdbf0"
      },
      "outputs": [
        {
          "output_type": "stream",
          "name": "stdout",
          "text": [
            "0\n",
            "1\n",
            "2\n",
            "3\n",
            "4\n",
            "5\n",
            "6\n",
            "7\n",
            "8\n",
            "9\n"
          ]
        }
      ],
      "source": [
        "i=0\n",
        "while i < 10:\n",
        "    print(i)\n",
        "    i = i + 1"
      ]
    },
    {
      "cell_type": "code",
      "source": [
        "#xxxx\n",
        "#oxxx\n",
        "#ooxx\n",
        "#ooox\n",
        "\n",
        "layer = 10\n",
        "i = 0\n",
        "left = \" \"\n",
        "right = \"x\"\n",
        "\n",
        "while i < layer:\n",
        "    l_count = i\n",
        "    r_count = layer - i\n",
        "    print(left*l_count + right*r_count)\n",
        "    i = i + 1"
      ],
      "metadata": {
        "colab": {
          "base_uri": "https://localhost:8080/"
        },
        "id": "yIPUMnBTijkZ",
        "outputId": "3f0d1d4e-970e-4a72-dd3c-2f6a4f886341"
      },
      "execution_count": 12,
      "outputs": [
        {
          "output_type": "stream",
          "name": "stdout",
          "text": [
            "xxxxxxxxxx\n",
            " xxxxxxxxx\n",
            "  xxxxxxxx\n",
            "   xxxxxxx\n",
            "    xxxxxx\n",
            "     xxxxx\n",
            "      xxxx\n",
            "       xxx\n",
            "        xx\n",
            "         x\n"
          ]
        }
      ]
    },
    {
      "cell_type": "code",
      "source": [
        "from re import X\n",
        "# ___o\n",
        "# __xx\n",
        "# _ooo\n",
        "# xxxx\n",
        "# 二個符號, 輪流用\n",
        "\n",
        "\n",
        "i = 0\n",
        "while i < 10:\n",
        "    if i % 2 == 0:\n",
        "        symbol = \"x\"\n",
        "    else:\n",
        "        symbol = \"o\"\n",
        "    print(\" \"*(10-i) + symbol*i)\n",
        "    i = i + 1"
      ],
      "metadata": {
        "colab": {
          "base_uri": "https://localhost:8080/"
        },
        "id": "kmoYWXPKo5W9",
        "outputId": "293e2c36-d00a-4675-f1e4-a3f17d1eea74"
      },
      "execution_count": 21,
      "outputs": [
        {
          "output_type": "stream",
          "name": "stdout",
          "text": [
            "          \n",
            "         o\n",
            "        xx\n",
            "       ooo\n",
            "      xxxx\n",
            "     ooooo\n",
            "    xxxxxx\n",
            "   ooooooo\n",
            "  xxxxxxxx\n",
            " ooooooooo\n"
          ]
        }
      ]
    },
    {
      "cell_type": "code",
      "source": [
        "# optional\n",
        "# 四個符號, 輪流用\n",
        "\n",
        "\n",
        "layer = 10\n",
        "i = 0\n",
        "symbols = [\"x\", \"y\", \"z\", \"?\"]\n",
        "\n",
        "while i < layer:\n",
        "    left = \" \"\n",
        "    right = symbols[i%len(symbols)]\n",
        "    l_count = i\n",
        "    r_count = layer - i\n",
        "    print(left*l_count + right*r_count)\n",
        "    i = i + 1"
      ],
      "metadata": {
        "colab": {
          "base_uri": "https://localhost:8080/"
        },
        "id": "RxwOVlE5pS_0",
        "outputId": "87c5cb19-844f-4853-91c6-bd9398eda1ab"
      },
      "execution_count": 33,
      "outputs": [
        {
          "output_type": "stream",
          "name": "stdout",
          "text": [
            "xxxxxxxxxx\n",
            " yyyyyyyyy\n",
            "  zzzzzzzz\n",
            "   ???????\n",
            "    xxxxxx\n",
            "     yyyyy\n",
            "      zzzz\n",
            "       ???\n",
            "        xx\n",
            "         y\n"
          ]
        }
      ]
    },
    {
      "cell_type": "code",
      "source": [
        "# xxxxx\n",
        "# _xxx_\n",
        "# __x__\n",
        "\n",
        "# i = 0\n",
        "# j = 0\n",
        "# while i < 10:\n",
        "#     print(\" \"*i + \"x\"*(10-j)+ \" \"*i)\n",
        "#     i = i + 1\n",
        "#     j = j + 2\n",
        "\n",
        "left, mid, right = \" \", \"x\", \" \"\n",
        "layer = 10\n",
        "i = 0\n",
        "\n",
        "while i < layer:\n",
        "    l_count = i\n",
        "    m_count = (2*layer-1) - 2*i\n",
        "    r_count = i\n",
        "    print(left*l_count+\n",
        "          mid*m_count+\n",
        "          right*r_count)\n",
        "    i = i + 1"
      ],
      "metadata": {
        "colab": {
          "base_uri": "https://localhost:8080/"
        },
        "id": "H-LHrlaspU4H",
        "outputId": "5b9bc44e-c805-45bc-e147-47925a692896"
      },
      "execution_count": 36,
      "outputs": [
        {
          "output_type": "stream",
          "name": "stdout",
          "text": [
            "xxxxxxxxxxxxxxxxxxx\n",
            " xxxxxxxxxxxxxxxxx \n",
            "  xxxxxxxxxxxxxxx  \n",
            "   xxxxxxxxxxxxx   \n",
            "    xxxxxxxxxxx    \n",
            "     xxxxxxxxx     \n",
            "      xxxxxxx      \n",
            "       xxxxx       \n",
            "        xxx        \n",
            "         x         \n"
          ]
        }
      ]
    },
    {
      "cell_type": "code",
      "source": [
        "total = 0\n",
        "i = 0\n",
        "while i < 10:\n",
        "    total = total + (i+1)\n",
        "    print(total)\n",
        "    i = i + 1"
      ],
      "metadata": {
        "colab": {
          "base_uri": "https://localhost:8080/"
        },
        "id": "V6GfIxjL15kV",
        "outputId": "74fe37cc-2edd-4dbc-93a5-82c7191e9177"
      },
      "execution_count": 37,
      "outputs": [
        {
          "output_type": "stream",
          "name": "stdout",
          "text": [
            "1\n",
            "3\n",
            "6\n",
            "10\n",
            "15\n",
            "21\n",
            "28\n",
            "36\n",
            "45\n",
            "55\n"
          ]
        }
      ]
    },
    {
      "cell_type": "code",
      "source": [
        "a, b = 212, 7\n",
        "result = str(a//b) + \".\"\n",
        "a = a % b\n",
        "i = 0\n",
        "while i < 10:\n",
        "    x = (a * 10) // b\n",
        "    y = (a * 10) % b\n",
        "    result = result + str(x)\n",
        "    a = y\n",
        "    i = i + 1\n",
        "print(result)"
      ],
      "metadata": {
        "colab": {
          "base_uri": "https://localhost:8080/"
        },
        "id": "YRk3faAy3Frj",
        "outputId": "dd1d69c0-3043-4ab0-df64-7b3bd3b6e9ed"
      },
      "execution_count": 53,
      "outputs": [
        {
          "output_type": "stream",
          "name": "stdout",
          "text": [
            "30.2857142857\n"
          ]
        }
      ]
    },
    {
      "cell_type": "code",
      "source": [
        "a, b = 213, 5\n",
        "result = str(a//b) + \".\"\n",
        "a = a % b\n",
        "i = 0\n",
        "while i < 10:\n",
        "    x = (a * 10) // b\n",
        "    result = result + str(x)\n",
        "    a = (a * 10) % b\n",
        "    if a == 0:\n",
        "        break\n",
        "    i = i + 1\n",
        "print(result)"
      ],
      "metadata": {
        "colab": {
          "base_uri": "https://localhost:8080/"
        },
        "id": "oeHuIE0H9d4o",
        "outputId": "d66d51fa-ae12-4247-90a2-f39b0da91e9a"
      },
      "execution_count": 58,
      "outputs": [
        {
          "output_type": "stream",
          "name": "stdout",
          "text": [
            "42.6\n"
          ]
        }
      ]
    }
  ]
}