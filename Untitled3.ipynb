{
  "nbformat": 4,
  "nbformat_minor": 0,
  "metadata": {
    "colab": {
      "provenance": [],
      "authorship_tag": "ABX9TyOiamPcrAvpahT2HMf0k+Hg",
      "include_colab_link": true
    },
    "kernelspec": {
      "name": "python3",
      "display_name": "Python 3"
    },
    "language_info": {
      "name": "python"
    }
  },
  "cells": [
    {
      "cell_type": "markdown",
      "metadata": {
        "id": "view-in-github",
        "colab_type": "text"
      },
      "source": [
        "<a href=\"https://colab.research.google.com/github/Yneq/tibami/blob/main/Untitled3.ipynb\" target=\"_parent\"><img src=\"https://colab.research.google.com/assets/colab-badge.svg\" alt=\"Open In Colab\"/></a>"
      ]
    },
    {
      "cell_type": "markdown",
      "source": [
        "單次一個複雜: 字典\n",
        "多次複雜: 自訂新的形態(物件導向)"
      ],
      "metadata": {
        "id": "HcYdt6ibFPuw"
      }
    },
    {
      "cell_type": "code",
      "execution_count": 1,
      "metadata": {
        "colab": {
          "base_uri": "https://localhost:8080/"
        },
        "id": "ocREJF6QFLrS",
        "outputId": "46f21f55-2522-4f33-a73d-40d656b2cdec"
      },
      "outputs": [
        {
          "output_type": "stream",
          "name": "stdout",
          "text": [
            "26.122448979591837\n",
            "24.598293989287843\n"
          ]
        }
      ],
      "source": [
        "# 自訂型態會以大寫開始, 並且以大寫每個字, SchoolStudent\n",
        "class Student:\n",
        "    def __init__(self, w, h):\n",
        "        # 專屬值\n",
        "        self.weight = w\n",
        "        self.height = h\n",
        "\n",
        "    def calculate_bmi(self):\n",
        "        bmi = self.weight / (self.height / 100) ** 2\n",
        "        return bmi\n",
        "\n",
        "    def __add__(self, other):\n",
        "        new_w = (self.weight + other.weight) / 2.0\n",
        "        new_h = (self.height + other.height) / 2.0\n",
        "        return Student(new_w, new_h)\n",
        "\n",
        "# 怎麼創一個型態東西(創造功能__init__專屬功能)\n",
        "s1 = Student(80, 175)\n",
        "# 以前: calculate_bmi(s1)\n",
        "# 專屬: s1.calculate_bmi()\n",
        "print(s1.calculate_bmi())\n",
        "\n",
        "s2 = Student(75, 180)\n",
        "\n",
        "# s1 + s2\n",
        "# s1.__add__(s2)\n",
        "s3 = s1 + s2\n",
        "print(s3.calculate_bmi())"
      ]
    },
    {
      "cell_type": "markdown",
      "source": [],
      "metadata": {
        "id": "1RN40dM7FM1b"
      }
    }
  ]
}