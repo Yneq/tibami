{
  "nbformat": 4,
  "nbformat_minor": 0,
  "metadata": {
    "colab": {
      "provenance": [],
      "authorship_tag": "ABX9TyMMvrBhRasOhEj5iZXX9S8J",
      "include_colab_link": true
    },
    "kernelspec": {
      "name": "python3",
      "display_name": "Python 3"
    },
    "language_info": {
      "name": "python"
    }
  },
  "cells": [
    {
      "cell_type": "markdown",
      "metadata": {
        "id": "view-in-github",
        "colab_type": "text"
      },
      "source": [
        "<a href=\"https://colab.research.google.com/github/Yneq/tibami/blob/main/tibame0417.ipynb\" target=\"_parent\"><img src=\"https://colab.research.google.com/assets/colab-badge.svg\" alt=\"Open In Colab\"/></a>"
      ]
    },
    {
      "cell_type": "code",
      "execution_count": 1,
      "metadata": {
        "colab": {
          "base_uri": "https://localhost:8080/"
        },
        "id": "Pqs8Gx5ujMGI",
        "outputId": "7f17890f-b553-48a0-888c-0884bfa4951d"
      },
      "outputs": [
        {
          "output_type": "stream",
          "name": "stdout",
          "text": [
            "30 10 60\n",
            "3\n",
            "10\n",
            "[7, 6, 5]\n"
          ]
        }
      ],
      "source": [
        "scores = [20, 30, 10]\n",
        "print(max(scores), min(scores), sum(scores))\n",
        "# !!!\n",
        "print(len(scores))\n",
        "# 座號(key): 0 1 2\n",
        "# scores[len(scores)-1]\n",
        "# 反向座號(key): -3 -2 -1\n",
        "# !!!\n",
        "print(scores[-1])\n",
        "\n",
        "# 取段: list[起始key:結束key(不包含)]\n",
        "scores = [9, 8, 7, 6, 5, 4, 3, 2, 1]\n",
        "print(scores[2:5])"
      ]
    }
  ]
}