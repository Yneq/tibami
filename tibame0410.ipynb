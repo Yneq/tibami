{
  "nbformat": 4,
  "nbformat_minor": 0,
  "metadata": {
    "colab": {
      "provenance": [],
      "authorship_tag": "ABX9TyP2KLNE1OZ85yyxebRNuhRG",
      "include_colab_link": true
    },
    "kernelspec": {
      "name": "python3",
      "display_name": "Python 3"
    },
    "language_info": {
      "name": "python"
    }
  },
  "cells": [
    {
      "cell_type": "markdown",
      "metadata": {
        "id": "view-in-github",
        "colab_type": "text"
      },
      "source": [
        "<a href=\"https://colab.research.google.com/github/Yneq/tibami/blob/main/tibame0410.ipynb\" target=\"_parent\"><img src=\"https://colab.research.google.com/assets/colab-badge.svg\" alt=\"Open In Colab\"/></a>"
      ]
    },
    {
      "cell_type": "code",
      "execution_count": 27,
      "metadata": {
        "id": "pXrc3-LVWhEl",
        "colab": {
          "base_uri": "https://localhost:8080/"
        },
        "outputId": "2eece54b-b9d1-4d95-f07e-49c73f3c0fde"
      },
      "outputs": [
        {
          "output_type": "stream",
          "name": "stdout",
          "text": [
            "你今天吃下多少蛋白質:160\n",
            "你今天吃下多少脂肪:75\n",
            "你今天吃下多少碳水:200\n",
            "我今天吃了：蛋白質:160.0 脂肪:75.0 碳水:200.0 總卡路里:2115.0\n",
            "吃不夠\n"
          ]
        }
      ],
      "source": [
        "#calroie = protein * 4 + fat * 9 + carbon * 4\n",
        "protein  = float(input(\"你今天吃下多少蛋白質:\"))\n",
        "fat = float(input(\"你今天吃下多少脂肪:\"))\n",
        "carbon = float(input(\"你今天吃下多少碳水:\"))\n",
        "calroie = protein * 4 + fat * 9 + carbon * 4\n",
        "print(\"我今天吃了：\" + \"蛋白質:\" + str(protein) + \" 脂肪:\" + str(fat) + \" 碳水:\" + str(carbon) + \" 總卡路里:\" + str(calroie) )\n",
        "\n",
        "total_calroie = 2200\n",
        "if calroie >= total_calroie:\n",
        "  print(\"吃夠了\")\n",
        "else:\n",
        "  print(\"吃不夠\")"
      ]
    }
  ]
}