{
  "nbformat": 4,
  "nbformat_minor": 0,
  "metadata": {
    "colab": {
      "provenance": [],
      "authorship_tag": "ABX9TyOH/CzFvWrtzKs1qc7QVD5A",
      "include_colab_link": true
    },
    "kernelspec": {
      "name": "python3",
      "display_name": "Python 3"
    },
    "language_info": {
      "name": "python"
    }
  },
  "cells": [
    {
      "cell_type": "markdown",
      "metadata": {
        "id": "view-in-github",
        "colab_type": "text"
      },
      "source": [
        "<a href=\"https://colab.research.google.com/github/Yneq/tibami/blob/main/tibame0410.ipynb\" target=\"_parent\"><img src=\"https://colab.research.google.com/assets/colab-badge.svg\" alt=\"Open In Colab\"/></a>"
      ]
    },
    {
      "cell_type": "code",
      "execution_count": 28,
      "metadata": {
        "id": "pXrc3-LVWhEl",
        "colab": {
          "base_uri": "https://localhost:8080/"
        },
        "outputId": "69ad2290-3b8e-4c66-e3e6-8802fde88121"
      },
      "outputs": [
        {
          "output_type": "stream",
          "name": "stdout",
          "text": [
            "你今天吃下多少蛋白質: 160\n",
            "你今天吃下多少脂肪: 90\n",
            "你今天吃下多少碳水: 200\n",
            "我今天吃了：蛋白質:160.0 脂肪:90.0 碳水:200.0 總卡路里:2250.0\n",
            "吃夠了\n"
          ]
        }
      ],
      "source": [
        "#calroie = protein * 4 + fat * 9 + carbon * 4\n",
        "protein  = float(input(\"你今天吃下多少蛋白質: \"))\n",
        "fat = float(input(\"你今天吃下多少脂肪: \"))\n",
        "carbon = float(input(\"你今天吃下多少碳水: \"))\n",
        "calroie = protein * 4 + fat * 9 + carbon * 4\n",
        "print(\"我今天吃了：\" + \"蛋白質:\" + str(protein) + \" 脂肪:\" + str(fat) + \" 碳水:\" + str(carbon) + \" 總卡路里:\" + str(calroie) )\n",
        "\n",
        "total_calroie = 2200\n",
        "if calroie >= total_calroie:\n",
        "  print(\"吃夠了\")\n",
        "else:\n",
        "  print(\"吃不夠\")"
      ]
    },
    {
      "cell_type": "markdown",
      "source": [
        "剪刀石頭布"
      ],
      "metadata": {
        "id": "M8z6lOrgUo3Q"
      }
    },
    {
      "cell_type": "code",
      "source": [
        "import random\n",
        "\n",
        "trans = [\"剪刀\", \"石頭\", \"布\"]\n",
        "my = int(input(\"0.剪刀 1.石頭 2.布\"))\n",
        "com = random.randint(0,2)\n",
        "print(\"我出的：\", trans[my])\n",
        "print(\"電腦的：\", trans[com])\n",
        "\n",
        "if my == (com + 1) % 3:\n",
        "  print(\"我贏了\")\n",
        "elif com == (my + 1) % 3:\n",
        "  print(\"我輸了\")\n",
        "else:\n",
        "  print(\"平手\")"
      ],
      "metadata": {
        "colab": {
          "base_uri": "https://localhost:8080/"
        },
        "id": "CSeaw4koUnK9",
        "outputId": "d83c87a0-2420-49fb-c3dd-1d4f466a0cac"
      },
      "execution_count": 36,
      "outputs": [
        {
          "output_type": "stream",
          "name": "stdout",
          "text": [
            "0.剪刀 1.石頭 2.布0\n",
            "我出的： 剪刀\n",
            "電腦的： 布\n",
            "我輸了\n"
          ]
        }
      ]
    },
    {
      "cell_type": "markdown",
      "source": [
        "剪刀石頭布二組版"
      ],
      "metadata": {
        "id": "YrYSe3f7mfM6"
      }
    },
    {
      "cell_type": "code",
      "source": [
        "import random\n",
        "\n",
        "trans = [\"剪刀(0)\", \"石頭(0)\", \"布(0)\" , \"剪刀(1)\", \"石頭(1)\", \"布(1)\"]\n",
        "my = int(input(\"0-5\"))\n",
        "com = random.randint(0, 5)\n",
        "\n",
        "print(\"我出的：\", trans[my])\n",
        "print(\"電腦的：\", trans[com])\n",
        "\n",
        "# if (0 <= my < 3 and 0 <= com < 3) or (3 <= my < 6 and 3 <= com < 6):\n",
        "#   if 0 <= my < 3 and 0 <= com < 3:\n",
        "#     if my == (com + 1) % 3:\n",
        "#       print(\"我贏了\")\n",
        "#     elif com == (my + 1) % 3:\n",
        "#       print(\"我輸了\")\n",
        "#     else:\n",
        "#       print(\"平手\")\n",
        "#   if 3 <= my < 6 and 3 <= com < 6:\n",
        "#     if my-3 == (com-3 + 1) % 3:\n",
        "#       print(\"我贏了\")\n",
        "#     elif com-3 == (my-3 + 1) % 3:\n",
        "#       print(\"我輸了\")\n",
        "#     else:\n",
        "#       print(\"平手\")\n",
        "# else:\n",
        "#   print(\"diffrent group\")\n",
        "\n",
        "my_group = my // 3\n",
        "com_group = com // 3\n",
        "#同組\n",
        "if my_group == com_group:\n",
        "  my_mod = my_group % 3\n",
        "  com_mod = com_group % 3\n",
        "  if com_mod == (my_mod + 1) % 3:\n",
        "    print(\"我輸了\")\n",
        "  elif my_mod == (com_mod + 1) % 3:\n",
        "    print(\"我贏了\")\n",
        "  else:\n",
        "    print(\"平手\")\n",
        "else:\n",
        "  print(\"different group\")"
      ],
      "metadata": {
        "colab": {
          "base_uri": "https://localhost:8080/"
        },
        "id": "wEWONPRomjRa",
        "outputId": "329d74f9-eed4-42fc-f3ee-7fa12b05fb91"
      },
      "execution_count": 44,
      "outputs": [
        {
          "output_type": "stream",
          "name": "stdout",
          "text": [
            "0-55\n",
            "我出的： 布(1)\n",
            "電腦的： 剪刀(0)\n",
            "different group\n"
          ]
        }
      ]
    }
  ]
}